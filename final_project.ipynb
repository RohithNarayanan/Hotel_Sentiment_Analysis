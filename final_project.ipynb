{
 "cells": [
  {
   "cell_type": "code",
   "execution_count": 1,
   "metadata": {
    "id": "74735569-ab84-42c0-8834-b0670cbab5ef"
   },
   "outputs": [
    {
     "name": "stdout",
     "output_type": "stream",
     "text": [
      "Requirement already satisfied: datasets in /opt/conda/envs/Python-RT24.1/lib/python3.11/site-packages (2.18.0)\n",
      "Requirement already satisfied: filelock in /opt/conda/envs/Python-RT24.1/lib/python3.11/site-packages (from datasets) (3.13.1)\n",
      "Requirement already satisfied: numpy>=1.17 in /opt/conda/envs/Python-RT24.1/lib/python3.11/site-packages (from datasets) (1.26.4)\n",
      "Requirement already satisfied: pyarrow>=12.0.0 in /opt/conda/envs/Python-RT24.1/lib/python3.11/site-packages (from datasets) (15.0.1)\n",
      "Requirement already satisfied: pyarrow-hotfix in /opt/conda/envs/Python-RT24.1/lib/python3.11/site-packages (from datasets) (0.6)\n",
      "Requirement already satisfied: dill<0.3.9,>=0.3.0 in /opt/conda/envs/Python-RT24.1/lib/python3.11/site-packages (from datasets) (0.3.8)\n",
      "Requirement already satisfied: pandas in /opt/conda/envs/Python-RT24.1/lib/python3.11/site-packages (from datasets) (2.1.4)\n",
      "Requirement already satisfied: requests>=2.19.0 in /opt/conda/envs/Python-RT24.1/lib/python3.11/site-packages (from datasets) (2.32.2)\n",
      "Requirement already satisfied: tqdm>=4.62.1 in /opt/conda/envs/Python-RT24.1/lib/python3.11/site-packages (from datasets) (4.66.4)\n",
      "Requirement already satisfied: xxhash in /opt/conda/envs/Python-RT24.1/lib/python3.11/site-packages (from datasets) (3.4.1)\n",
      "Requirement already satisfied: multiprocess in /opt/conda/envs/Python-RT24.1/lib/python3.11/site-packages (from datasets) (0.70.15)\n",
      "Requirement already satisfied: fsspec<=2024.2.0,>=2023.1.0 in /opt/conda/envs/Python-RT24.1/lib/python3.11/site-packages (from fsspec[http]<=2024.2.0,>=2023.1.0->datasets) (2023.10.0)\n",
      "Requirement already satisfied: aiohttp in /opt/conda/envs/Python-RT24.1/lib/python3.11/site-packages (from datasets) (3.11.10)\n",
      "Requirement already satisfied: huggingface-hub>=0.19.4 in /opt/conda/envs/Python-RT24.1/lib/python3.11/site-packages (from datasets) (0.29.2)\n",
      "Requirement already satisfied: packaging in /opt/conda/envs/Python-RT24.1/lib/python3.11/site-packages (from datasets) (23.2)\n",
      "Requirement already satisfied: pyyaml>=5.1 in /opt/conda/envs/Python-RT24.1/lib/python3.11/site-packages (from datasets) (6.0.1)\n",
      "Requirement already satisfied: aiohappyeyeballs>=2.3.0 in /opt/conda/envs/Python-RT24.1/lib/python3.11/site-packages (from aiohttp->datasets) (2.4.0)\n",
      "Requirement already satisfied: aiosignal>=1.1.2 in /opt/conda/envs/Python-RT24.1/lib/python3.11/site-packages (from aiohttp->datasets) (1.2.0)\n",
      "Requirement already satisfied: attrs>=17.3.0 in /opt/conda/envs/Python-RT24.1/lib/python3.11/site-packages (from aiohttp->datasets) (23.1.0)\n",
      "Requirement already satisfied: frozenlist>=1.1.1 in /opt/conda/envs/Python-RT24.1/lib/python3.11/site-packages (from aiohttp->datasets) (1.4.0)\n",
      "Requirement already satisfied: multidict<7.0,>=4.5 in /opt/conda/envs/Python-RT24.1/lib/python3.11/site-packages (from aiohttp->datasets) (6.0.4)\n",
      "Requirement already satisfied: propcache>=0.2.0 in /opt/conda/envs/Python-RT24.1/lib/python3.11/site-packages (from aiohttp->datasets) (0.2.0)\n",
      "Requirement already satisfied: yarl<2.0,>=1.17.0 in /opt/conda/envs/Python-RT24.1/lib/python3.11/site-packages (from aiohttp->datasets) (1.18.0)\n",
      "Requirement already satisfied: typing-extensions>=3.7.4.3 in /opt/conda/envs/Python-RT24.1/lib/python3.11/site-packages (from huggingface-hub>=0.19.4->datasets) (4.12.2)\n",
      "Requirement already satisfied: charset-normalizer<4,>=2 in /opt/conda/envs/Python-RT24.1/lib/python3.11/site-packages (from requests>=2.19.0->datasets) (2.0.4)\n",
      "Requirement already satisfied: idna<4,>=2.5 in /opt/conda/envs/Python-RT24.1/lib/python3.11/site-packages (from requests>=2.19.0->datasets) (3.7)\n",
      "Requirement already satisfied: urllib3<3,>=1.21.1 in /opt/conda/envs/Python-RT24.1/lib/python3.11/site-packages (from requests>=2.19.0->datasets) (1.26.19)\n",
      "Requirement already satisfied: certifi>=2017.4.17 in /opt/conda/envs/Python-RT24.1/lib/python3.11/site-packages (from requests>=2.19.0->datasets) (2025.4.26)\n",
      "Requirement already satisfied: python-dateutil>=2.8.2 in /opt/conda/envs/Python-RT24.1/lib/python3.11/site-packages (from pandas->datasets) (2.8.2)\n",
      "Requirement already satisfied: pytz>=2020.1 in /opt/conda/envs/Python-RT24.1/lib/python3.11/site-packages (from pandas->datasets) (2024.1)\n",
      "Requirement already satisfied: tzdata>=2022.1 in /opt/conda/envs/Python-RT24.1/lib/python3.11/site-packages (from pandas->datasets) (2023.3)\n",
      "Requirement already satisfied: six>=1.5 in /opt/conda/envs/Python-RT24.1/lib/python3.11/site-packages (from python-dateutil>=2.8.2->pandas->datasets) (1.16.0)\n",
      "Requirement already satisfied: scikit-learn in /opt/conda/envs/Python-RT24.1/lib/python3.11/site-packages (1.3.0)\n",
      "Requirement already satisfied: numpy>=1.17.3 in /opt/conda/envs/Python-RT24.1/lib/python3.11/site-packages (from scikit-learn) (1.26.4)\n",
      "Requirement already satisfied: scipy>=1.5.0 in /opt/conda/envs/Python-RT24.1/lib/python3.11/site-packages (from scikit-learn) (1.11.4)\n",
      "Requirement already satisfied: joblib>=1.1.1 in /opt/conda/envs/Python-RT24.1/lib/python3.11/site-packages (from scikit-learn) (1.3.2)\n",
      "Requirement already satisfied: threadpoolctl>=2.0.0 in /opt/conda/envs/Python-RT24.1/lib/python3.11/site-packages (from scikit-learn) (2.2.0)\n",
      "Collecting ibm-watson-machine-learning==1.0.312\n",
      "  Downloading ibm_watson_machine_learning-1.0.312-py3-none-any.whl.metadata (8.9 kB)\n",
      "Requirement already satisfied: requests in /opt/conda/envs/Python-RT24.1/lib/python3.11/site-packages (from ibm-watson-machine-learning==1.0.312) (2.32.2)\n",
      "Requirement already satisfied: urllib3 in /opt/conda/envs/Python-RT24.1/lib/python3.11/site-packages (from ibm-watson-machine-learning==1.0.312) (1.26.19)\n",
      "Collecting pandas<1.6.0,>=0.24.2 (from ibm-watson-machine-learning==1.0.312)\n",
      "  Downloading pandas-1.5.3-cp311-cp311-manylinux_2_17_x86_64.manylinux2014_x86_64.whl.metadata (11 kB)\n",
      "Requirement already satisfied: certifi in /opt/conda/envs/Python-RT24.1/lib/python3.11/site-packages (from ibm-watson-machine-learning==1.0.312) (2025.4.26)\n",
      "Requirement already satisfied: lomond in /opt/conda/envs/Python-RT24.1/lib/python3.11/site-packages (from ibm-watson-machine-learning==1.0.312) (0.3.3)\n",
      "Requirement already satisfied: tabulate in /opt/conda/envs/Python-RT24.1/lib/python3.11/site-packages (from ibm-watson-machine-learning==1.0.312) (0.8.10)\n",
      "Requirement already satisfied: packaging in /opt/conda/envs/Python-RT24.1/lib/python3.11/site-packages (from ibm-watson-machine-learning==1.0.312) (23.2)\n",
      "Requirement already satisfied: importlib-metadata in /opt/conda/envs/Python-RT24.1/lib/python3.11/site-packages (from ibm-watson-machine-learning==1.0.312) (7.0.1)\n",
      "Requirement already satisfied: ibm-cos-sdk<2.14.0,>=2.12.0 in /opt/conda/envs/Python-RT24.1/lib/python3.11/site-packages (from ibm-watson-machine-learning==1.0.312) (2.13.4)\n",
      "Requirement already satisfied: ibm-cos-sdk-core==2.13.4 in /opt/conda/envs/Python-RT24.1/lib/python3.11/site-packages (from ibm-cos-sdk<2.14.0,>=2.12.0->ibm-watson-machine-learning==1.0.312) (2.13.4)\n",
      "Requirement already satisfied: ibm-cos-sdk-s3transfer==2.13.4 in /opt/conda/envs/Python-RT24.1/lib/python3.11/site-packages (from ibm-cos-sdk<2.14.0,>=2.12.0->ibm-watson-machine-learning==1.0.312) (2.13.4)\n",
      "Requirement already satisfied: jmespath<=1.0.1,>=0.10.0 in /opt/conda/envs/Python-RT24.1/lib/python3.11/site-packages (from ibm-cos-sdk<2.14.0,>=2.12.0->ibm-watson-machine-learning==1.0.312) (1.0.1)\n",
      "Requirement already satisfied: python-dateutil<3.0.0,>=2.8.2 in /opt/conda/envs/Python-RT24.1/lib/python3.11/site-packages (from ibm-cos-sdk-core==2.13.4->ibm-cos-sdk<2.14.0,>=2.12.0->ibm-watson-machine-learning==1.0.312) (2.8.2)\n",
      "Requirement already satisfied: pytz>=2020.1 in /opt/conda/envs/Python-RT24.1/lib/python3.11/site-packages (from pandas<1.6.0,>=0.24.2->ibm-watson-machine-learning==1.0.312) (2024.1)\n",
      "Requirement already satisfied: numpy>=1.21.0 in /opt/conda/envs/Python-RT24.1/lib/python3.11/site-packages (from pandas<1.6.0,>=0.24.2->ibm-watson-machine-learning==1.0.312) (1.26.4)\n",
      "Requirement already satisfied: charset-normalizer<4,>=2 in /opt/conda/envs/Python-RT24.1/lib/python3.11/site-packages (from requests->ibm-watson-machine-learning==1.0.312) (2.0.4)\n",
      "Requirement already satisfied: idna<4,>=2.5 in /opt/conda/envs/Python-RT24.1/lib/python3.11/site-packages (from requests->ibm-watson-machine-learning==1.0.312) (3.7)\n",
      "Requirement already satisfied: zipp>=0.5 in /opt/conda/envs/Python-RT24.1/lib/python3.11/site-packages (from importlib-metadata->ibm-watson-machine-learning==1.0.312) (3.20.2)\n",
      "Requirement already satisfied: six>=1.10.0 in /opt/conda/envs/Python-RT24.1/lib/python3.11/site-packages (from lomond->ibm-watson-machine-learning==1.0.312) (1.16.0)\n",
      "Downloading ibm_watson_machine_learning-1.0.312-py3-none-any.whl (1.7 MB)\n",
      "\u001b[2K   \u001b[90m━━━━━━━━━━━━━━━━━━━━━━━━━━━━━━━━━━━━━━━━\u001b[0m \u001b[32m1.7/1.7 MB\u001b[0m \u001b[31m21.7 MB/s\u001b[0m eta \u001b[36m0:00:00\u001b[0m00:01\u001b[0m0:01\u001b[0m\n",
      "\u001b[?25hDownloading pandas-1.5.3-cp311-cp311-manylinux_2_17_x86_64.manylinux2014_x86_64.whl (12.0 MB)\n",
      "\u001b[2K   \u001b[90m━━━━━━━━━━━━━━━━━━━━━━━━━━━━━━━━━━━━━━━━\u001b[0m \u001b[32m12.0/12.0 MB\u001b[0m \u001b[31m75.6 MB/s\u001b[0m eta \u001b[36m0:00:00\u001b[0m:00:01\u001b[0m0:01\u001b[0m\n",
      "\u001b[?25hInstalling collected packages: pandas, ibm-watson-machine-learning\n",
      "  Attempting uninstall: pandas\n",
      "    Found existing installation: pandas 2.1.4\n",
      "    Uninstalling pandas-2.1.4:\n",
      "      Successfully uninstalled pandas-2.1.4\n",
      "  Attempting uninstall: ibm-watson-machine-learning\n",
      "    Found existing installation: ibm_watson_machine_learning 1.0.367\n",
      "    Uninstalling ibm_watson_machine_learning-1.0.367:\n",
      "      Successfully uninstalled ibm_watson_machine_learning-1.0.367\n",
      "\u001b[31mERROR: pip's dependency resolver does not currently take into account all the packages that are installed. This behaviour is the source of the following dependency conflicts.\n",
      "autoai-libs 2.0.19 requires pandas==2.1.*, but you have pandas 1.5.3 which is incompatible.\n",
      "autoai-ts-libs 4.0.16 requires pandas==2.1.*, but you have pandas 1.5.3 which is incompatible.\u001b[0m\u001b[31m\n",
      "\u001b[0mSuccessfully installed ibm-watson-machine-learning-1.0.312 pandas-1.5.3\n"
     ]
    }
   ],
   "source": [
    "# [1]\n",
    "!pip install datasets\n",
    "!pip install scikit-learn\n",
    "!pip install ibm-watson-machine-learning==1.0.312"
   ]
  },
  {
   "cell_type": "code",
   "execution_count": 2,
   "metadata": {
    "id": "4ecfef7f-f2f6-448d-ba16-ab57568e52ec"
   },
   "outputs": [],
   "source": [
    "# [2]\n",
    "import os, getpass\n",
    "from pandas import read_csv"
   ]
  },
  {
   "cell_type": "code",
   "execution_count": 3,
   "metadata": {
    "id": "97905eaa-d01e-409e-b380-3430d50de4ed"
   },
   "outputs": [
    {
     "name": "stdout",
     "output_type": "stream",
     "text": [
      "Please enter your WML api key (hit enter):  ········\n"
     ]
    }
   ],
   "source": [
    "# [3] Watsonx API connection\n",
    "# Enter the URL for Watson Machine Learning as per your WML Location\n",
    "# Dallas : us-south\n",
    "\n",
    "credentials = {\n",
    "    \"url\": \"https://us-south.ml.cloud.ibm.com\",\n",
    "    \"apikey\": getpass.getpass(\"Please enter your WML api key (hit enter): \")\n",
    "}"
   ]
  },
  {
   "cell_type": "code",
   "execution_count": 6,
   "metadata": {
    "id": "691cd8e8-7fdc-407e-ac19-3cd0fa9b441a"
   },
   "outputs": [],
   "source": [
    "# [4] Defining the project id\n",
    "try:\n",
    "    project_id = os.environ[\"PROJECT_ID\"]\n",
    "except KeyError:\n",
    "    project_id = input(\"Please enter your project_id (hit enter): \")"
   ]
  },
  {
   "cell_type": "code",
   "execution_count": 5,
   "metadata": {
    "id": "91e2ea70-9197-4ec6-8673-414687d317cd"
   },
   "outputs": [
    {
     "data": {
      "text/plain": [
       "'ca947bfe-a770-4ce7-b4a0-de1f521e439d'"
      ]
     },
     "execution_count": 5,
     "metadata": {},
     "output_type": "execute_result"
    }
   ],
   "source": [
    "# [8]\n",
    "project_id"
   ]
  },
  {
   "cell_type": "code",
   "execution_count": null,
   "metadata": {
    "id": "e072faf7-6e35-44bb-8810-c499eaf392e7"
   },
   "outputs": [
    {
     "data": {
      "text/html": [
       "<div>\n",
       "<style scoped>\n",
       "    .dataframe tbody tr th:only-of-type {\n",
       "        vertical-align: middle;\n",
       "    }\n",
       "\n",
       "    .dataframe tbody tr th {\n",
       "        vertical-align: top;\n",
       "    }\n",
       "\n",
       "    .dataframe thead th {\n",
       "        text-align: right;\n",
       "    }\n",
       "</style>\n",
       "<table border=\"1\" class=\"dataframe\">\n",
       "  <thead>\n",
       "    <tr style=\"text-align: right;\">\n",
       "      <th></th>\n",
       "      <th>Review</th>\n",
       "      <th>Sentiment</th>\n",
       "      <th>Tags</th>\n",
       "    </tr>\n",
       "  </thead>\n",
       "  <tbody>\n",
       "    <tr>\n",
       "      <th>0</th>\n",
       "      <td>TV wasn't working and maintenance was delayed.</td>\n",
       "      <td>Neutral</td>\n",
       "      <td>Location</td>\n",
       "    </tr>\n",
       "    <tr>\n",
       "      <th>1</th>\n",
       "      <td>Worst stay ever. Broken lights and no hot water.</td>\n",
       "      <td>Positive</td>\n",
       "      <td>Room Service</td>\n",
       "    </tr>\n",
       "    <tr>\n",
       "      <th>2</th>\n",
       "      <td>Rooms were cozy and had good lighting.</td>\n",
       "      <td>Negative</td>\n",
       "      <td>Wi-Fi, Noise Levels, Restaurant</td>\n",
       "    </tr>\n",
       "    <tr>\n",
       "      <th>3</th>\n",
       "      <td>Outstanding hospitality and great service.</td>\n",
       "      <td>Negative</td>\n",
       "      <td>Service</td>\n",
       "    </tr>\n",
       "    <tr>\n",
       "      <th>4</th>\n",
       "      <td>Room service was slow, but the location is per...</td>\n",
       "      <td>Positive</td>\n",
       "      <td>Amenities, Food Quality, Wi-Fi</td>\n",
       "    </tr>\n",
       "  </tbody>\n",
       "</table>\n",
       "</div>"
      ],
      "text/plain": [
       "                                              Review Sentiment  \\\n",
       "0     TV wasn't working and maintenance was delayed.   Neutral   \n",
       "1   Worst stay ever. Broken lights and no hot water.  Positive   \n",
       "2             Rooms were cozy and had good lighting.  Negative   \n",
       "3         Outstanding hospitality and great service.  Negative   \n",
       "4  Room service was slow, but the location is per...  Positive   \n",
       "\n",
       "                              Tags  \n",
       "0                         Location  \n",
       "1                     Room Service  \n",
       "2  Wi-Fi, Noise Levels, Restaurant  \n",
       "3                          Service  \n",
       "4   Amenities, Food Quality, Wi-Fi  "
      ]
     },
     "execution_count": 7,
     "metadata": {},
     "output_type": "execute_result"
    }
   ],
   "source": [
    "# [9]\n",
    "import os, types\n",
    "import pandas as pd\n",
    "from ibm_boto3 import client\n",
    "from botocore.client import Config\n",
    "import ibm_boto3\n",
    "\n",
    "def _iter_(self): return 0\n",
    "\n",
    "# @hidden_cell\n",
    "# The following code accesses a file in your IBM Cloud Object Storage. \n",
    "# It includes your credentials. \n",
    "# You might want to remove those credentials before you share the notebook.\n",
    "\n",
    "cos_client = ibm_boto3.client(service_name='s3',\n",
    "    ibm_api_key_id='Enter your API KEY HERE',\n",
    "    ibm_auth_endpoint=\"https://iam.cloud.ibm.com/oidc/token\",\n",
    "    config=Config(signature_version='oauth'),\n",
    "    endpoint_url='https://s3.private.us-south.cloud-object-storage.appdomain.cloud'\n",
    ")\n",
    "\n",
    "bucket = 'bucketexpt2-testandtrain'\n",
    "object_key = 'hotel_train.csv'\n",
    "\n",
    "body = cos_client.get_object(Bucket=bucket, Key=object_key)['Body']\n",
    "\n",
    "# Add missing _iter_ method so pandas accepts body as file-like object\n",
    "if not hasattr(body, \"_iter\"): body.iter_ = types.MethodType(_iter_, body)\n",
    "\n",
    "train_data = pd.read_csv(body)\n",
    "train_data.head(5)\n"
   ]
  },
  {
   "cell_type": "code",
   "execution_count": null,
   "metadata": {
    "id": "0928e8f6-a1d9-4600-8600-70344090eaed"
   },
   "outputs": [
    {
     "data": {
      "text/html": [
       "<div>\n",
       "<style scoped>\n",
       "    .dataframe tbody tr th:only-of-type {\n",
       "        vertical-align: middle;\n",
       "    }\n",
       "\n",
       "    .dataframe tbody tr th {\n",
       "        vertical-align: top;\n",
       "    }\n",
       "\n",
       "    .dataframe thead th {\n",
       "        text-align: right;\n",
       "    }\n",
       "</style>\n",
       "<table border=\"1\" class=\"dataframe\">\n",
       "  <thead>\n",
       "    <tr style=\"text-align: right;\">\n",
       "      <th></th>\n",
       "      <th>Review</th>\n",
       "      <th>Sentiment</th>\n",
       "      <th>Tags</th>\n",
       "    </tr>\n",
       "  </thead>\n",
       "  <tbody>\n",
       "    <tr>\n",
       "      <th>0</th>\n",
       "      <td>The view from the room was breathtaking. Loved...</td>\n",
       "      <td>Neutral</td>\n",
       "      <td>Spa, Pool, Noise Levels</td>\n",
       "    </tr>\n",
       "    <tr>\n",
       "      <th>1</th>\n",
       "      <td>The restaurant served cold food.</td>\n",
       "      <td>Neutral</td>\n",
       "      <td>Staff Behavior, Wi-Fi, Noise Levels</td>\n",
       "    </tr>\n",
       "    <tr>\n",
       "      <th>2</th>\n",
       "      <td>Excellent service and very friendly staff. Lov...</td>\n",
       "      <td>Neutral</td>\n",
       "      <td>Wi-Fi, Pool, Location</td>\n",
       "    </tr>\n",
       "    <tr>\n",
       "      <th>3</th>\n",
       "      <td>Room service was slow, but the location is per...</td>\n",
       "      <td>Negative</td>\n",
       "      <td>Check-in/Check-out, Bathroom</td>\n",
       "    </tr>\n",
       "    <tr>\n",
       "      <th>4</th>\n",
       "      <td>The breakfast had many healthy options.</td>\n",
       "      <td>Positive</td>\n",
       "      <td>Pool</td>\n",
       "    </tr>\n",
       "  </tbody>\n",
       "</table>\n",
       "</div>"
      ],
      "text/plain": [
       "                                              Review Sentiment  \\\n",
       "0  The view from the room was breathtaking. Loved...   Neutral   \n",
       "1                   The restaurant served cold food.   Neutral   \n",
       "2  Excellent service and very friendly staff. Lov...   Neutral   \n",
       "3  Room service was slow, but the location is per...  Negative   \n",
       "4            The breakfast had many healthy options.  Positive   \n",
       "\n",
       "                                  Tags  \n",
       "0              Spa, Pool, Noise Levels  \n",
       "1  Staff Behavior, Wi-Fi, Noise Levels  \n",
       "2                Wi-Fi, Pool, Location  \n",
       "3         Check-in/Check-out, Bathroom  \n",
       "4                                 Pool  "
      ]
     },
     "execution_count": 8,
     "metadata": {},
     "output_type": "execute_result"
    }
   ],
   "source": [
    "# [10]\n",
    "import os, types\n",
    "import pandas as pd\n",
    "from botocore.client import Config\n",
    "import ibm_boto3\n",
    "\n",
    "def _iter_(self): return 0\n",
    "\n",
    "# @hidden_cell\n",
    "# The following code accesses a file in your IBM Cloud Object Storage. \n",
    "# It includes your credentials. \n",
    "# You might want to remove those credentials before you share the notebook.\n",
    "\n",
    "cos_client = ibm_boto3.client(service_name='s3',\n",
    "    ibm_api_key_id='ENTER YOUT API KEY HERE',\n",
    "    ibm_auth_endpoint=\"https://iam.cloud.ibm.com/oidc/token\",\n",
    "    config=Config(signature_version='oauth'),\n",
    "    endpoint_url=\"https://s3.private.us-south.cloud-object-storage.appdomain.cloud\"\n",
    ")\n",
    "\n",
    "bucket = 'bucketexpt2-testandtrain'\n",
    "object_key = 'hotel_test.csv'\n",
    "\n",
    "body = cos_client.get_object(Bucket=bucket, Key=object_key)['Body']\n",
    "\n",
    "# add missing _iter_ method, so pandas accepts body as file-like object\n",
    "if not hasattr(body, \"_iter\"): body.iter_ = types.MethodType(_iter_, body)\n",
    "\n",
    "test_data = pd.read_csv(body)\n",
    "test_data.head(5)\n"
   ]
  },
  {
   "cell_type": "code",
   "execution_count": 9,
   "metadata": {
    "id": "2cdb00c4-59c9-460a-b637-bdfc85b901e6"
   },
   "outputs": [
    {
     "data": {
      "text/plain": [
       "(50, 3)"
      ]
     },
     "execution_count": 9,
     "metadata": {},
     "output_type": "execute_result"
    }
   ],
   "source": [
    "# [29]\n",
    "train_data.shape"
   ]
  },
  {
   "cell_type": "code",
   "execution_count": 10,
   "metadata": {
    "id": "bcab420a-5c2a-4e12-a541-3093d7623385"
   },
   "outputs": [
    {
     "data": {
      "text/plain": [
       "(50, 3)"
      ]
     },
     "execution_count": 10,
     "metadata": {},
     "output_type": "execute_result"
    }
   ],
   "source": [
    "# [30]\n",
    "test_data.shape"
   ]
  },
  {
   "cell_type": "code",
   "execution_count": 11,
   "metadata": {
    "id": "dad70aef-227a-4b80-9008-cf8bd2f63d7c"
   },
   "outputs": [],
   "source": [
    "# [13]\n",
    "from ibm_watson_machine_learning.foundation_models.utils.enums import ModelTypes"
   ]
  },
  {
   "cell_type": "code",
   "execution_count": 12,
   "metadata": {
    "id": "a2884f14-3912-4403-978e-917e319c8681"
   },
   "outputs": [],
   "source": [
    "# [14]\n",
    "model_id = ModelTypes.FLAN_UL2"
   ]
  },
  {
   "cell_type": "code",
   "execution_count": null,
   "metadata": {
    "id": "cedb01bc-eaf5-4068-adc8-13e0331fba51"
   },
   "outputs": [],
   "source": [
    "satisfaction_instruction = \"\"\"\n",
    "Was the hotel review positive or negative? Respond with 1 for positive, 0 for negative.\n",
    "\n",
    "review: The hotel was dirty and noisy.\n",
    "sentiment: 0\n",
    "\n",
    "review: The staff was friendly and the room was spotless.\n",
    "sentiment: 1\n",
    "\n",
    "review:\n",
    "\"\"\""
   ]
  },
  {
   "cell_type": "code",
   "execution_count": 20,
   "metadata": {
    "id": "48f810fd-efec-4cc5-8fad-144893c73646"
   },
   "outputs": [],
   "source": [
    "import time"
   ]
  },
  {
   "cell_type": "code",
   "execution_count": 21,
   "metadata": {
    "id": "688b0825-e9ac-40c4-8cc8-9a0d7b9d244a"
   },
   "outputs": [],
   "source": [
    "# [17]\n",
    "from ibm_watson_machine_learning.foundation_models import Model\n",
    "\n",
    "model = Model(\n",
    "    model_id=model_id,\n",
    "    params=parameters,\n",
    "    credentials=credentials,\n",
    "    project_id=project_id\n",
    ")\n"
   ]
  },
  {
   "cell_type": "code",
   "execution_count": 25,
   "metadata": {
    "id": "e7848ab7-58a0-4238-b0e0-22662067428b"
   },
   "outputs": [],
   "source": [
    "results = []\n",
    "comments = list(test_data.Review)\n",
    "\n",
    "for idx, input_text in enumerate(comments):\n",
    "    prompt = satisfaction_instruction + input_text + \"\\nsentiment:\"\n",
    "    try:\n",
    "        output = model.generate_text(prompt=prompt)\n",
    "        results.append(output.strip())\n",
    "    except Exception as e:\n",
    "        print(f\"⚠️ Error at row {idx}: {e}\")\n",
    "        results.append(\"ERROR\")\n",
    "    time.sleep(0.6)  # Prevent rate-limit (2 req/sec for Lite plan)\n"
   ]
  },
  {
   "cell_type": "code",
   "execution_count": 26,
   "metadata": {
    "id": "4a10948b-4655-4d73-846e-631861208930"
   },
   "outputs": [],
   "source": [
    "test_data[\"Predicted_Sentiment\"] = results\n"
   ]
  },
  {
   "cell_type": "code",
   "execution_count": 27,
   "metadata": {
    "id": "07c5a060-6269-4447-9b1e-28d40aa3f4f4"
   },
   "outputs": [
    {
     "name": "stdout",
     "output_type": "stream",
     "text": [
      "\n",
      "✅ Final Results:\n",
      "                                              Review Sentiment  \\\n",
      "0  The view from the room was breathtaking. Loved...   Neutral   \n",
      "1                   The restaurant served cold food.   Neutral   \n",
      "2  Excellent service and very friendly staff. Lov...   Neutral   \n",
      "3  Room service was slow, but the location is per...  Negative   \n",
      "4            The breakfast had many healthy options.  Positive   \n",
      "\n",
      "  Predicted_Sentiment  \n",
      "0                   1  \n",
      "1                   0  \n",
      "2                   1  \n",
      "3                   1  \n",
      "4                   1  \n"
     ]
    }
   ],
   "source": [
    "print(\"\\n✅ Final Results:\")\n",
    "print(test_data[[\"Review\", \"Sentiment\", \"Predicted_Sentiment\"]].head())"
   ]
  },
  {
   "cell_type": "code",
   "execution_count": 28,
   "metadata": {
    "id": "eb95645e-c72e-4195-967b-22b724c6e996"
   },
   "outputs": [
    {
     "name": "stdout",
     "output_type": "stream",
     "text": [
      "\n",
      "📁 Results saved to hotel_sentiment_predictions.csv\n"
     ]
    }
   ],
   "source": [
    "test_data.to_csv(\"hotel_sentiment_predictions.csv\", index=False)\n",
    "print(\"\\n📁 Results saved to hotel_sentiment_predictions.csv\")"
   ]
  },
  {
   "cell_type": "code",
   "execution_count": 29,
   "metadata": {
    "id": "ed67700d-012f-4b7e-afaa-33283ed0c1b5"
   },
   "outputs": [
    {
     "name": "stdout",
     "output_type": "stream",
     "text": [
      "\n",
      "✅ Final Predictions:\n",
      "\n",
      "                                               Review Sentiment  \\\n",
      "0   The view from the room was breathtaking. Loved...   Neutral   \n",
      "1                    The restaurant served cold food.   Neutral   \n",
      "2   Excellent service and very friendly staff. Lov...   Neutral   \n",
      "3   Room service was slow, but the location is per...  Negative   \n",
      "4             The breakfast had many healthy options.  Positive   \n",
      "5   Not satisfied with the housekeeping. Towels we...   Neutral   \n",
      "6              Friendly staff and quick room service.  Positive   \n",
      "7        The breakfast buffet was not up to the mark.   Neutral   \n",
      "8   Staff was unhelpful and rude. Not coming back ...  Positive   \n",
      "9          Lovely aroma in the room and clean linens.   Neutral   \n",
      "10           Staff forgot to clean our room on day 2.  Negative   \n",
      "11  The room was clean and spacious, but the food ...   Neutral   \n",
      "12  Wi-Fi was very slow, but everything else was f...  Negative   \n",
      "13                  Enjoyed the complimentary drinks.  Positive   \n",
      "14   Worst stay ever. Broken lights and no hot water.  Positive   \n",
      "\n",
      "   Predicted_Sentiment  \n",
      "0                    1  \n",
      "1                    0  \n",
      "2                    1  \n",
      "3                    1  \n",
      "4                    1  \n",
      "5                    0  \n",
      "6                    1  \n",
      "7                    0  \n",
      "8                    0  \n",
      "9                    1  \n",
      "10                   0  \n",
      "11                   0  \n",
      "12                   0  \n",
      "13                   1  \n",
      "14                   0  \n"
     ]
    }
   ],
   "source": [
    "test_data[\"Predicted_Sentiment\"] = results\n",
    "print(\"\\n✅ Final Predictions:\\n\")\n",
    "print(test_data[[\"Review\", \"Sentiment\", \"Predicted_Sentiment\"]].head(15))"
   ]
  },
  {
   "cell_type": "code",
   "execution_count": null,
   "metadata": {
    "id": "3fb2a295-6c6f-4305-8f4b-8ac22a90181d"
   },
   "outputs": [],
   "source": []
  },
  {
   "cell_type": "code",
   "execution_count": null,
   "metadata": {
    "id": "50fb377c-4cfe-40ac-b2df-a965122f57fc"
   },
   "outputs": [],
   "source": []
  }
 ],
 "metadata": {
  "kernelspec": {
   "display_name": "Python 3.11",
   "language": "python",
   "name": "python3"
  },
  "language_info": {
   "codemirror_mode": {
    "name": "ipython",
    "version": 3
   },
   "file_extension": ".py",
   "mimetype": "text/x-python",
   "name": "python",
   "nbconvert_exporter": "python",
   "pygments_lexer": "ipython3",
   "version": "3.11.13"
  }
 },
 "nbformat": 4,
 "nbformat_minor": 4
}
